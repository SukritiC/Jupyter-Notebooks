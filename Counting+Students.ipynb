{
 "cells": [
  {
   "cell_type": "code",
   "execution_count": 3,
   "metadata": {},
   "outputs": [],
   "source": [
    "#DESCRIPTION\n",
    "#A university wants to categorize the marks scored by the students of each batch in the quizzes conducted. \n",
    "\n",
    "#Datasets:\n",
    "#studentlist.csv is a csv file present at the location (/data/training/studentlist.csv) which includes the student details like enrollmentnumber, admissionno\n",
    "#batchwiselist is a folder present at the location (/data/training/batchwiselist) which has multiple csv files. Each file contains the student details belonging to a batch.  For example,  1.csv  contains the student details belonging to batch1 and 2.csv contains the student details belonging to batch2 and so on.\n",
    "#quiz is a folder present at the location (/data/training/quiz) which has multiple csv files.  Each file represents a quiz conducted by the university and contains all the important details. The column 'Grade/10.00' contains the marks obtained in that quiz out of maximum marks of 10.  For example quiz1.csv  contains the student details and the marks obtained by them in the first quiz. \n",
    "\n",
    "#Now you need to perform the following steps on this data:\n",
    "\n",
    "#Read the file studentlist.csv \n",
    "#Read the files present in the folders batchwiselist,  quiz \n",
    "#Manipulate the data and create a Statistics dataframe in such a way that it allocates marks to the students of each batch for the quizzes. \n",
    "#Statistics dataframe for each batch should include the following column names with the respective statistics value. The column names infer the meaning of each column. \n",
    "\n",
    "#[\"noofpresent\", \"lessthan50\", \"between50and60\", \"between60and70\", \"between70and80\", \"greaterthan80\"]\n",
    "\n",
    "#Rows of Statistics dataframe represents the quiz. Such as, the first row under the column “between50and60” represents the number of students whose percentage is in between 50 and 60 in the first quiz. \n",
    "#The second row under the column “between50and60” represents the number of students whose percentage is in between 50 and 60 in the second quiz. \n",
    "#The first row under the column \"noofpresent\" represents the number of students who attempted the first quiz from that batch.\n",
    "#The second row under the column \"noofpresent\" represents the number of students who attempted the second quiz from that batch.\n",
    "\n",
    "\n",
    "\n",
    "\n",
    "\n",
    "\n",
    "import pandas as pd\n",
    "\n",
    "# [Example] Read datasets\n",
    "student_list = pd.read_csv(\"D:\\\\Edureka\\\\Python\\\\training-training-data\\\\studentlist.csv\")\n",
    "quiz1=pd.read_csv(\"D:\\\\Edureka\\\\Python\\\\training-training-data\\\\quiz\\\\quiz1.csv\")\n",
    "quiz1=quiz1[quiz1['State']=='Finished']\n",
    "quiz2=pd.read_csv(\"D:\\\\Edureka\\\\Python\\\\training-training-data\\\\quiz\\\\quiz2.csv\")\n",
    "quiz2=quiz2[quiz2['State']=='Finished']\n",
    "dq1=quiz1[['Firstname','Grade/10.00']]\n",
    "dq1.columns=['studentName','Grade/10.0']\n",
    "dq2=quiz2[['Firstname','Grade/10.00']]\n",
    "dq2.columns=['studentName','Grade/10.0']\n",
    "file=open(\"D:\\\\Edureka\\\\Python\\\\training-training-data\\\\testcaseStudent.txt\",'r')\n",
    "l1=int(file.readline()[:-1])\n",
    "path=\"D:\\\\Edureka\\\\Python\\\\training-training-data\\\\batchwiselist\\\\\"\n",
    "w=1\n",
    "while(l1>0):\n",
    "    l2=file.readline()\n",
    "    l3=file.readline()\n",
    "    fn=l2.rstrip(\"\\n\")\n",
    "    c=l3.rstrip(\"\\n\")\n",
    "    path=path+fn\n",
    "    df_batch=pd.read_csv(path)\n",
    "    ba1=df_batch[['studentName']]\n",
    "    qu1=pd.merge(ba1,dq1,on='studentName',how='left')\n",
    "    qu2=pd.merge(ba1,dq2,on='studentName',how='left')\n",
    "    qu1['Grade/10.0']=pd.to_numeric(qu1['Grade/10.0'])\n",
    "    qu2['Grade/10.0']=pd.to_numeric(qu2['Grade/10.0'])\n",
    "    qu1=qu1.dropna()\n",
    "    qu2=qu2.dropna()\n",
    "    df_quiz1={'noofpresent':len(qu1),'lessthan50':len(qu1[qu1['Grade/10.0']<5]),'between50and60':len(qu1[qu1['Grade/10.0'].between(5,6,inclusive=True)]),\"between60and70\":len(qu1[qu1['Grade/10.0'].between(6,7,inclusive=True)]),\"between70and80\":len(qu1[qu1['Grade/10.0'].between(7,8,inclusive=True)]),\"greaterthan80\":len(qu1[qu1['Grade/10.0']>=8])}\n",
    "    df_quiz2={'noofpresent':len(qu2),'lessthan50':len(qu2[qu2['Grade/10.0']<5]),'between50and60':len(qu2[qu2['Grade/10.0'].between(5,6,inclusive=True)]),\"between60and70\":len(qu2[qu2['Grade/10.0'].between(6,7,inclusive=True)]),\"between70and80\":len(qu2[qu2['Grade/10.0'].between(7,8,inclusive=True)]),\"greaterthan80\":len(qu2[qu2['Grade/10.0']>=8])}\n",
    "    one=df_quiz1[c]\n",
    "    two=df_quiz2[c]\n",
    "    name=\"D:\\\\Edureka\\\\Python\\\\training-training-data\\\\Output\"+str(w)+\".txt\"\n",
    "    file1=open(name,\"w+\")\n",
    "    file1.write(str(one))\n",
    "    file1.write(str(two))\n",
    "    file1.close()\n",
    "    w=w+1\n",
    "    l1=l1-1\n",
    "    path=\"D:\\\\Edureka\\\\Python\\\\training-training-data\\\\batchwiselist\\\\\"\n",
    "file.close()"
   ]
  },
  {
   "cell_type": "code",
   "execution_count": null,
   "metadata": {
    "collapsed": true
   },
   "outputs": [],
   "source": []
  },
  {
   "cell_type": "code",
   "execution_count": null,
   "metadata": {
    "collapsed": true
   },
   "outputs": [],
   "source": []
  },
  {
   "cell_type": "code",
   "execution_count": null,
   "metadata": {
    "collapsed": true
   },
   "outputs": [],
   "source": []
  }
 ],
 "metadata": {
  "kernelspec": {
   "display_name": "Python 3",
   "language": "python",
   "name": "python3"
  },
  "language_info": {
   "codemirror_mode": {
    "name": "ipython",
    "version": 3
   },
   "file_extension": ".py",
   "mimetype": "text/x-python",
   "name": "python",
   "nbconvert_exporter": "python",
   "pygments_lexer": "ipython3",
   "version": "3.6.3"
  }
 },
 "nbformat": 4,
 "nbformat_minor": 2
}
