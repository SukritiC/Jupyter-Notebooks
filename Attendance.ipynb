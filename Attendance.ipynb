{
 "cells": [
  {
   "cell_type": "code",
   "execution_count": null,
   "metadata": {
    "collapsed": true
   },
   "outputs": [],
   "source": [
    "#DESCRIPTION\n",
    "#EDU University wants to find out, whether class attendance by the students should be made compulsory.  For that, they gave you a dataset, SECTION1.csv  which includes the following attributes in the same order.\n",
    "\n",
    "#[\"Sno\", \"Department\", \"Branch\", \"Semester\", \"Course\", \"RegistrationNo\", \"StudentName\", \"Date\", \"Slot group\", \"Time\", \"ClassConducted\", \"ClassAttended\"].\n",
    "\n",
    "#But after looking into the data, you reached to a conclusion that it is not in a proper format for analysing.  \n",
    "\n",
    "#You need to manipulate the data and create a dataframe with the following attributes:\n",
    "    \n",
    "#[RegistrationNo, Name, Date1, Date2, Date3, …. DateN]\n",
    "\n",
    "#Each row corresponds to the data of a student. The column names of Date1, Date2, Date3.... DateN should be replaced with the unique dates from the dataset. Values under Date1, Date2 … columns should be the total number of classes attended by the student on that date.\n"
   ]
  },
  {
   "cell_type": "code",
   "execution_count": 77,
   "metadata": {
    "collapsed": true
   },
   "outputs": [],
   "source": [
    "import pandas as pd\n",
    "import numpy as np"
   ]
  },
  {
   "cell_type": "code",
   "execution_count": 78,
   "metadata": {
    "collapsed": true
   },
   "outputs": [],
   "source": [
    "data = pd.read_csv(\"D:\\\\Edureka\\\\Python\\\\training-attendanceT\\\\SECTION1.csv\")"
   ]
  },
  {
   "cell_type": "code",
   "execution_count": 79,
   "metadata": {},
   "outputs": [
    {
     "data": {
      "text/plain": [
       "Index(['Sno', 'Department', 'branch', 'semester', 'course', 'reg', 'student ',\n",
       "       'date', 'slot grp', 'time', 'class c', 'class a'],\n",
       "      dtype='object')"
      ]
     },
     "execution_count": 79,
     "metadata": {},
     "output_type": "execute_result"
    }
   ],
   "source": [
    "data.columns"
   ]
  },
  {
   "cell_type": "code",
   "execution_count": 80,
   "metadata": {
    "collapsed": true
   },
   "outputs": [],
   "source": [
    "ndf=pd.pivot_table(data,'class a',index=['reg'],columns=['date'],aggfunc=np.sum,fill_value=0)"
   ]
  },
  {
   "cell_type": "code",
   "execution_count": 119,
   "metadata": {
    "collapsed": true
   },
   "outputs": [],
   "source": [
    "file=open(\"D:\\\\Edureka\\\\Python\\\\training-attendanceT\\\\testcase.txt\",\"r\")\n",
    "l1=file.readline()\n",
    "i=int(l1)\n",
    "file.seek(3,0)\n",
    "w=1\n",
    "while(i>0):\n",
    "    l2=file.readline()\n",
    "    l3=file.readline()\n",
    "    l3=l3.replace(\"/\",\"-\")\n",
    "    r=l2.rstrip(\"\\n\")\n",
    "    d=l3.rstrip(\"\\n\")\n",
    "    x=ndf[r:]\n",
    "    a=x[d]\n",
    "    b=a.iloc[0]\n",
    "    name=\"D:\\\\Edureka\\\\Python\\\\training-attendanceT\\\\output\"+str(w)+\".txt\"\n",
    "    file1=open(name,\"w+\")\n",
    "    file1.write(r+\"\\n\")\n",
    "    file1.write(str(b))\n",
    "    file1.close()\n",
    "    w=w+1\n",
    "    i=i-1\n",
    "file.close()"
   ]
  },
  {
   "cell_type": "code",
   "execution_count": null,
   "metadata": {
    "collapsed": true
   },
   "outputs": [],
   "source": []
  },
  {
   "cell_type": "code",
   "execution_count": null,
   "metadata": {
    "collapsed": true
   },
   "outputs": [],
   "source": []
  }
 ],
 "metadata": {
  "kernelspec": {
   "display_name": "Python 3",
   "language": "python",
   "name": "python3"
  },
  "language_info": {
   "codemirror_mode": {
    "name": "ipython",
    "version": 3
   },
   "file_extension": ".py",
   "mimetype": "text/x-python",
   "name": "python",
   "nbconvert_exporter": "python",
   "pygments_lexer": "ipython3",
   "version": "3.6.3"
  }
 },
 "nbformat": 4,
 "nbformat_minor": 2
}
